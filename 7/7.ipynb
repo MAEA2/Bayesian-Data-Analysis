{
 "cells": [
  {
   "cell_type": "markdown",
   "metadata": {},
   "source": [
    "# Evaluating, comparing, and expanding models \n",
    "\n",
    "前章ではデータに対するモデルの当てはまりをチェックする相違の尺度について議論しました。この章ではモデルをチェックすることを追求するのではなく、それらを比較し、より改善する方向を探ります。考えている全てのモデルがデータとの不適合を含んでいたとしても、それらの予測ので正確さを評価し、次にどこへ向かうべきかを考えることは有益です。私たちがここで重点を置いている課題は、予測モデルの精度を推定し、それに適合するようにモデルの予測データを評価する際のバイアスを修正することです。\n",
    "\n",
    "次のように進んでいきます。まず。予測の適合の尺度について、動く例として小規模の線形回帰を使いながら議論します。私たちは外部検証、訓練データへの適合とベイジアンの文脈での交差検証の違いについて考えます。次に情報量基準を導出します、それは交差検証や外部検証の適合に対する推定量や近似であり、予測誤差を測るときに過適合を調節するために使われます。7.3では8つの学校の例として使いモデル比較のための予測誤差の評価について考えます。その章ではベイズファクターと連続モデルの拡張を続け、7.6章で単純だがトリビアルではないサンプル例の中でモデルの仮定に対する堅牢性へと議論を拡張する。\n",
    "\n"
   ]
  },
  {
   "cell_type": "markdown",
   "metadata": {},
   "source": [
    "## Example. Forecasting presidential elections\n",
    "選挙の例が述べられている。$x$を経済成長、$y$を投票のシェアとして線形回帰を行なっている。\n",
    "$$\n",
    "y\\sim \\mathcal{N}(a+bx,\\sigma^2)\n",
    "$$\n",
    "を仮定し、無情報事前分布を用いる。\n",
    "事後分布は最も簡単には次のように特徴付けられる。\n",
    "$$\n",
    "p(a,b,\\sigma^2\\vert y)=p(\\sigma^2\\vert y)p(a,b\\vert\\sigma^2,y)\n",
    "$$\n",
    "* 分散の周辺事後分布　$\\sigma^2\\vert y\\sim\\mathrm{Inv}-\\chi^2(n-J,s^2)$\n",
    "$$\n",
    "s^2=\\frac{1}{n-J}(y-X\\hat{\\beta})^\\top(y-X\\hat{\\beta})\n",
    "$$\n",
    "* 条件付き事後分布は\n",
    "\\begin{align}\n",
    "\\beta|\\sigma^2\\sim\\mathcal{N}(\\hat{\\beta},V_\\beta\\sigma^2)\\\\\n",
    "\\hat{\\beta}=(X^\\top X)^{-1}X^\\top y\\\\\n",
    "V_\\beta=(X^\\top X)^{-1}\n",
    "\\end{align}"
   ]
  },
  {
   "cell_type": "markdown",
   "metadata": {},
   "source": [
    "## Measures of predictive accuracy\n",
    "\n",
    "### Mean squared error.\n",
    "わかる\n",
    "### Log predictive density or log-likelihood.\n",
    "KL情報量とか\n",
    "### Predictive accuracy for a single data poin\n",
    "\\begin{align}\n",
    "\\log p_\\mathrm{post}(\\tilde{y}_i)=&\\log \\mathrm{E}_{post}[p(\\tilde{y}_i|\\theta)]=\\log \\int p(\\tilde{y}_i|\\theta)p_\\mathrm{post}(\\theta|\\boldsymbol{y}_\\mathrm{train})d\\theta\\\\\n",
    "\\end{align}\n",
    "データの真の分布$f$はわからないので予測分布で代用しようと思うけど、それだと過適合になる。ベイズ的なアプローチを考えたい。\n",
    "### Averaging over the distribution of future data\n",
    "データの真の分布$f$はわからないので予測分布で代用しようと思うけど、それだと過適合になる。ベイズ的なアプローチを考えたい。\n",
    "\\begin{align}\n",
    "\\mathrm{elpd} &= \\text{expected log predictive density for a new dataset}\\\\\n",
    "&=\\mathrm{E}_f[\\log p_\\mathrm{post}(\\tilde{y}_i)]=\\int(\\log p_\\mathrm{post}(\\tilde{y}_i))f(\\tilde{y}_i)d\\tilde{y}\\\\\n",
    "\\mathrm{elppd}&= \\text{expected log pointwise predictive density for a new dataset}\\\\\n",
    "&=\\sum_{i=1}^n\\mathrm{E}_f(\\log p_\\mathrm{post}(\\tilde{y}_i))\\\\\n",
    "\\mathrm{lppd}\n",
    "\\end{align}\n",
    "### Evaluating predictive accuracy for a fitted model\n",
    "### Choices in defining the likelihood and predictive quantities"
   ]
  }
 ],
 "metadata": {
  "anaconda-cloud": {},
  "kernelspec": {
   "display_name": "Python [conda root]",
   "language": "python",
   "name": "conda-root-py"
  },
  "language_info": {
   "codemirror_mode": {
    "name": "ipython",
    "version": 3
   },
   "file_extension": ".py",
   "mimetype": "text/x-python",
   "name": "python",
   "nbconvert_exporter": "python",
   "pygments_lexer": "ipython3",
   "version": "3.5.2"
  },
  "toc": {
   "colors": {
    "hover_highlight": "#DAA520",
    "navigate_num": "#000000",
    "navigate_text": "#333333",
    "running_highlight": "#FF0000",
    "selected_highlight": "#FFD700",
    "sidebar_border": "#EEEEEE",
    "wrapper_background": "#FFFFFF"
   },
   "moveMenuLeft": true,
   "nav_menu": {
    "height": "166px",
    "width": "254px"
   },
   "navigate_menu": true,
   "number_sections": true,
   "sideBar": true,
   "threshold": 4,
   "toc_cell": false,
   "toc_section_display": "block",
   "toc_window_display": false,
   "widenNotebook": false
  }
 },
 "nbformat": 4,
 "nbformat_minor": 2
}
