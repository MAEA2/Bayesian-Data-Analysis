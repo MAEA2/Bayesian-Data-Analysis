{
 "cells": [
  {
   "cell_type": "markdown",
   "metadata": {
    "toc": "true"
   },
   "source": [
    "# Table of Contents\n",
    " <p><div class=\"lev1 toc-item\"><a href=\"#Part-II-:-ベイジアンデータ分析の基礎\" data-toc-modified-id=\"Part-II-:-ベイジアンデータ分析の基礎-1\"><span class=\"toc-item-num\">1&nbsp;&nbsp;</span>Part II : ベイジアンデータ分析の基礎</a></div><div class=\"lev1 toc-item\"><a href=\"#Chapter6-:-モデル確認\" data-toc-modified-id=\"Chapter6-:-モデル確認-2\"><span class=\"toc-item-num\">2&nbsp;&nbsp;</span>Chapter6 : モデル確認</a></div><div class=\"lev2 toc-item\"><a href=\"#応用ベイジアン統計でのモデル確認とは\" data-toc-modified-id=\"応用ベイジアン統計でのモデル確認とは-21\"><span class=\"toc-item-num\">2.1&nbsp;&nbsp;</span>応用ベイジアン統計でのモデル確認とは</a></div>"
   ]
  },
  {
   "cell_type": "markdown",
   "metadata": {},
   "source": [
    "# Part II : ベイジアンデータ分析の基礎\n",
    "ベイジアン統計の応用の一般的な課題としては、事前分布、尤度、事後分布モデルの簡略な設計（構築）のことが挙げられる。<br>\n",
    "第６章では、モデル推定のための事後分布推論の敏感度や確率モデルとデータ、あるいは本質的な情報との適合度を評価する方法に関して述べる。(以下これをモデル確認と呼ぶ。)モデル確認は「想定したモデルの正しさに対してすべての結論が条件づけられる」というこの(トートロジー的な)反復の連鎖を終わらせることができる。<br>\n",
    "第７章では、モデルの評価と比較に関して述べる。データに適合するパラメータ調整に関しても述べる。<br>\n",
    "第８章では、確率的モデリングでのデータ収集や研究計画に関して述べる。特に、調査観察データに対するベイジアン推論や先行研究などに関して詳しく述べる。この賞は概念的にもいろいろ新しいものが出てくるし、一番難しいかもしれない。<br>\n",
    "第９章では、様々な例を挙げながら、意思決定問題におけてベイジアン推論の応用先に関して述べる。<br>\n",
    "<br>\n",
    "この4つのchapterの全体の流れをまとめると、\n",
    "複雑な問題の中でcreativeにベイジアンモデルを立てて、\n",
    "モデル確認をして、\n",
    "科学的にありえる形の事後分布を構築し、\n",
    "最終的にそれを持って推論することで指揮決定問題で用いる一連の流れを見ることになる。"
   ]
  },
  {
   "cell_type": "markdown",
   "metadata": {},
   "source": [
    "# Chapter6 : モデル確認\n",
    "\n",
    "## 応用ベイジアン統計でのモデル確認とは\n",
    "\n"
   ]
  }
 ],
 "metadata": {
  "anaconda-cloud": {},
  "kernelspec": {
   "display_name": "Python [conda root]",
   "language": "python",
   "name": "conda-root-py"
  },
  "language_info": {
   "codemirror_mode": {
    "name": "ipython",
    "version": 3
   },
   "file_extension": ".py",
   "mimetype": "text/x-python",
   "name": "python",
   "nbconvert_exporter": "python",
   "pygments_lexer": "ipython3",
   "version": "3.5.2"
  },
  "toc": {
   "colors": {
    "hover_highlight": "#DAA520",
    "running_highlight": "#FF0000",
    "selected_highlight": "#FFD700"
   },
   "moveMenuLeft": true,
   "nav_menu": {
    "height": "90px",
    "width": "254px"
   },
   "navigate_menu": true,
   "number_sections": true,
   "sideBar": true,
   "threshold": "6",
   "toc_cell": true,
   "toc_section_display": "block",
   "toc_window_display": true
  }
 },
 "nbformat": 4,
 "nbformat_minor": 1
}
